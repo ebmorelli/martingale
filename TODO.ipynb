{
 "cells": [
  {
   "cell_type": "markdown",
   "metadata": {},
   "source": [
    "## TODO\n",
    "\n",
    "* look more into related work\n",
    "* try using individual team earnings, rather than average earnings, for param gs\n",
    "* take some money out at a certain threshold? poker: cannot pocket fraction of your cash at cash games. only money you can pocket is when you leave table\n",
    "* add data"
   ]
  },
  {
   "cell_type": "markdown",
   "metadata": {},
   "source": [
    "## David's ideas\n",
    "\n",
    "* test on specific conference (interactions?)\n",
    "* consider pitchers and 5-man rotation"
   ]
  },
  {
   "cell_type": "code",
   "execution_count": null,
   "metadata": {},
   "outputs": [],
   "source": []
  }
 ],
 "metadata": {
  "kernelspec": {
   "display_name": "Python 3",
   "language": "python",
   "name": "python3"
  },
  "language_info": {
   "codemirror_mode": {
    "name": "ipython",
    "version": 3
   },
   "file_extension": ".py",
   "mimetype": "text/x-python",
   "name": "python",
   "nbconvert_exporter": "python",
   "pygments_lexer": "ipython3",
   "version": "3.8.5"
  }
 },
 "nbformat": 4,
 "nbformat_minor": 4
}
