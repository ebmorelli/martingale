{
 "cells": [
  {
   "cell_type": "markdown",
   "metadata": {},
   "source": [
    "## Info"
   ]
  },
  {
   "cell_type": "code",
   "execution_count": null,
   "metadata": {},
   "outputs": [],
   "source": [
    "# Martingale Betting: Bet the moneyline on a team. If they lose, double the same bet for the same team in their next game.\n",
    "\n",
    "# The purpose of this notebook is first wave of experiments with Martingale betting system.\n",
    "\n",
    "# Data sources\n",
    "\n",
    "# 2021\n",
    "# https://www.baseball-reference.com/teams/DET/2021-schedule-scores.shtml\n",
    "# https://www.covers.com/sport/baseball/mlb/teams/main/detroit-tigers\n",
    "\n",
    "# 2019\n",
    "# https://www.baseball-reference.com/teams/DET/2019-schedule-scores.shtml\n",
    "# https://www.covers.com/sport/baseball/mlb/teams/main/detroit-tigers/2019\n",
    "\n",
    "# 2018\n",
    "# same as above\n",
    "\n",
    "# note: Covers Line: an average comprised of odds from multiple sportsbooks\n",
    "# from https://www.covers.com/mlb/dodgers-vs-braves-picks-predictions-october-23-2021\n",
    "\n",
    "# terminology\n",
    "# team-season: a specific season for a specific team\n",
    "# refill factor: the number of games you're guaranteed until another refill\n",
    "# dataset name: a 5 letter string of the 3-letter team abbreviation (on baseball-reference) + last 2 digits of season year"
   ]
  },
  {
   "cell_type": "markdown",
   "metadata": {},
   "source": [
    "## Import Packages"
   ]
  },
  {
   "cell_type": "code",
   "execution_count": 1,
   "metadata": {},
   "outputs": [],
   "source": [
    "import pandas as pd\n",
    "import matplotlib.pyplot as plt\n",
    "from os.path import join\n",
    "import matplotlib as mpl\n",
    "import statistics\n",
    "from matplotlib.patches import Patch\n",
    "from matplotlib.lines import Line2D\n",
    "import warnings\n",
    "warnings.filterwarnings('ignore')\n",
    "from martingale import ds_names, full_run, plot_results, grid_search_by_szn, grid_search_by_team, param_boxplot"
   ]
  },
  {
   "cell_type": "markdown",
   "metadata": {},
   "source": [
    "## Functions\n",
    "\n",
    "*moved to martingale.py*"
   ]
  },
  {
   "cell_type": "markdown",
   "metadata": {},
   "source": [
    "## Analysis"
   ]
  },
  {
   "cell_type": "code",
   "execution_count": null,
   "metadata": {},
   "outputs": [],
   "source": [
    "# run once with default parameters\n",
    "bet_data, team_data = full_run(ds_names())\n",
    "\n",
    "# plot results\n",
    "plot_results(bet_data, team_data)"
   ]
  },
  {
   "cell_type": "code",
   "execution_count": null,
   "metadata": {
    "scrolled": true
   },
   "outputs": [],
   "source": [
    "# grid search by season\n",
    "params = {'base_bet': [2, 5, 10, 20],\n",
    "          'start_balance': [25, 50, 100, 200, 1000],\n",
    "          'refill': [1, 2, 3, 4, 5]\n",
    "         }\n",
    "param_gs = grid_search_by_szn(73, params)"
   ]
  },
  {
   "cell_type": "code",
   "execution_count": null,
   "metadata": {},
   "outputs": [],
   "source": [
    "# quick analyze results of grid search\n",
    "param_gs.sort_values(by=['earn_avg', 'test_stat'], inplace=True, ascending=False)\n",
    "display(param_gs.head(5))\n",
    "param_gs.sort_values(by=['pct_pos', 'test_stat'], inplace=True, ascending=False)\n",
    "display(param_gs.head(5))\n",
    "param_gs.sort_values(by=['test_stat'], inplace=True, ascending=False)\n",
    "display(param_gs.head(5))"
   ]
  },
  {
   "cell_type": "code",
   "execution_count": null,
   "metadata": {
    "scrolled": false
   },
   "outputs": [],
   "source": [
    "# analyze effect of parameters\n",
    "\n",
    "mpl.rcParams[\"figure.figsize\"] = [15,15]\n",
    "\n",
    "plt.subplot(3,3,1)\n",
    "param_boxplot(param_gs, 'base_bet', 'earn_avg')\n",
    "\n",
    "plt.subplot(3,3,2)\n",
    "param_boxplot(param_gs, 'start_balance', 'earn_avg')\n",
    "\n",
    "plt.subplot(3,3,3)\n",
    "param_boxplot(param_gs, 'refill', 'earn_avg')\n",
    "\n",
    "plt.subplot(3,3,4)\n",
    "param_boxplot(param_gs, 'base_bet', 'pct_pos')\n",
    "\n",
    "plt.subplot(3,3,5)\n",
    "param_boxplot(param_gs, 'start_balance', 'pct_pos')\n",
    "\n",
    "plt.subplot(3,3,6)\n",
    "param_boxplot(param_gs, 'refill', 'pct_pos')\n",
    "\n",
    "plt.subplot(3,3,7)\n",
    "param_boxplot(param_gs, 'base_bet', 'test_stat')\n",
    "\n",
    "plt.subplot(3,3,8)\n",
    "param_boxplot(param_gs, 'start_balance', 'test_stat')\n",
    "\n",
    "plt.subplot(3,3,9)\n",
    "param_boxplot(param_gs, 'refill', 'test_stat')"
   ]
  },
  {
   "cell_type": "code",
   "execution_count": 2,
   "metadata": {},
   "outputs": [
    {
     "name": "stdout",
     "output_type": "stream",
     "text": [
      "grid search complete\n"
     ]
    },
    {
     "data": {
      "text/html": [
       "<div>\n",
       "<style scoped>\n",
       "    .dataframe tbody tr th:only-of-type {\n",
       "        vertical-align: middle;\n",
       "    }\n",
       "\n",
       "    .dataframe tbody tr th {\n",
       "        vertical-align: top;\n",
       "    }\n",
       "\n",
       "    .dataframe thead th {\n",
       "        text-align: right;\n",
       "    }\n",
       "</style>\n",
       "<table border=\"1\" class=\"dataframe\">\n",
       "  <thead>\n",
       "    <tr style=\"text-align: right;\">\n",
       "      <th></th>\n",
       "      <th>name</th>\n",
       "      <th>wins</th>\n",
       "      <th>base_bet</th>\n",
       "      <th>start_balance</th>\n",
       "      <th>refill</th>\n",
       "      <th>earnings</th>\n",
       "    </tr>\n",
       "  </thead>\n",
       "  <tbody>\n",
       "    <tr>\n",
       "      <th>3280</th>\n",
       "      <td>det21</td>\n",
       "      <td>76.0</td>\n",
       "      <td>20.0</td>\n",
       "      <td>25.0</td>\n",
       "      <td>4.0</td>\n",
       "      <td>4686.03</td>\n",
       "    </tr>\n",
       "    <tr>\n",
       "      <th>3490</th>\n",
       "      <td>det21</td>\n",
       "      <td>76.0</td>\n",
       "      <td>20.0</td>\n",
       "      <td>50.0</td>\n",
       "      <td>4.0</td>\n",
       "      <td>4671.03</td>\n",
       "    </tr>\n",
       "    <tr>\n",
       "      <th>3700</th>\n",
       "      <td>det21</td>\n",
       "      <td>76.0</td>\n",
       "      <td>20.0</td>\n",
       "      <td>100.0</td>\n",
       "      <td>4.0</td>\n",
       "      <td>4566.77</td>\n",
       "    </tr>\n",
       "    <tr>\n",
       "      <th>3910</th>\n",
       "      <td>det21</td>\n",
       "      <td>76.0</td>\n",
       "      <td>20.0</td>\n",
       "      <td>200.0</td>\n",
       "      <td>4.0</td>\n",
       "      <td>4424.43</td>\n",
       "    </tr>\n",
       "    <tr>\n",
       "      <th>3322</th>\n",
       "      <td>det21</td>\n",
       "      <td>76.0</td>\n",
       "      <td>20.0</td>\n",
       "      <td>25.0</td>\n",
       "      <td>5.0</td>\n",
       "      <td>4366.03</td>\n",
       "    </tr>\n",
       "    <tr>\n",
       "      <th>3532</th>\n",
       "      <td>det21</td>\n",
       "      <td>76.0</td>\n",
       "      <td>20.0</td>\n",
       "      <td>50.0</td>\n",
       "      <td>5.0</td>\n",
       "      <td>4351.03</td>\n",
       "    </tr>\n",
       "    <tr>\n",
       "      <th>3742</th>\n",
       "      <td>det21</td>\n",
       "      <td>76.0</td>\n",
       "      <td>20.0</td>\n",
       "      <td>100.0</td>\n",
       "      <td>5.0</td>\n",
       "      <td>4246.77</td>\n",
       "    </tr>\n",
       "    <tr>\n",
       "      <th>3952</th>\n",
       "      <td>det21</td>\n",
       "      <td>76.0</td>\n",
       "      <td>20.0</td>\n",
       "      <td>200.0</td>\n",
       "      <td>5.0</td>\n",
       "      <td>4104.43</td>\n",
       "    </tr>\n",
       "    <tr>\n",
       "      <th>4120</th>\n",
       "      <td>det21</td>\n",
       "      <td>76.0</td>\n",
       "      <td>20.0</td>\n",
       "      <td>1000.0</td>\n",
       "      <td>4.0</td>\n",
       "      <td>3341.43</td>\n",
       "    </tr>\n",
       "    <tr>\n",
       "      <th>4036</th>\n",
       "      <td>det21</td>\n",
       "      <td>76.0</td>\n",
       "      <td>20.0</td>\n",
       "      <td>1000.0</td>\n",
       "      <td>2.0</td>\n",
       "      <td>3341.43</td>\n",
       "    </tr>\n",
       "  </tbody>\n",
       "</table>\n",
       "</div>"
      ],
      "text/plain": [
       "       name  wins  base_bet  start_balance  refill  earnings\n",
       "3280  det21  76.0      20.0           25.0     4.0   4686.03\n",
       "3490  det21  76.0      20.0           50.0     4.0   4671.03\n",
       "3700  det21  76.0      20.0          100.0     4.0   4566.77\n",
       "3910  det21  76.0      20.0          200.0     4.0   4424.43\n",
       "3322  det21  76.0      20.0           25.0     5.0   4366.03\n",
       "3532  det21  76.0      20.0           50.0     5.0   4351.03\n",
       "3742  det21  76.0      20.0          100.0     5.0   4246.77\n",
       "3952  det21  76.0      20.0          200.0     5.0   4104.43\n",
       "4120  det21  76.0      20.0         1000.0     4.0   3341.43\n",
       "4036  det21  76.0      20.0         1000.0     2.0   3341.43"
      ]
     },
     "metadata": {},
     "output_type": "display_data"
    }
   ],
   "source": [
    "# grid search by team\n",
    "\n",
    "params = {'base_bet': [2, 5, 10, 20],\n",
    "          'start_balance': [25, 50, 100, 200, 1000],\n",
    "          'refill': [1, 2, 3, 4, 5]\n",
    "         }\n",
    "param_gs = grid_search_by_team(73, params)\n",
    "param_gs.sort_values(by=['earnings'], inplace=True, ascending=False)\n",
    "display(param_gs.head(10))"
   ]
  },
  {
   "cell_type": "code",
   "execution_count": 3,
   "metadata": {},
   "outputs": [
    {
     "data": {
      "image/png": "[encoded data removed]",
      "text/plain": [
       "<Figure size 1080x360 with 3 Axes>"
      ]
     },
     "metadata": {
      "needs_background": "light"
     },
     "output_type": "display_data"
    }
   ],
   "source": [
    "# analyze effect of parameters\n",
    "\n",
    "mpl.rcParams[\"figure.figsize\"] = [15,5]\n",
    "\n",
    "plt.subplot(1,3,1)\n",
    "param_boxplot(param_gs, 'base_bet', 'earnings')\n",
    "\n",
    "plt.subplot(1,3,2)\n",
    "param_boxplot(param_gs, 'start_balance', 'earnings')\n",
    "\n",
    "plt.subplot(1,3,3)\n",
    "param_boxplot(param_gs, 'refill', 'earnings')"
   ]
  },
  {
   "cell_type": "markdown",
   "metadata": {},
   "source": [
    "## Takeaways"
   ]
  },
  {
   "cell_type": "code",
   "execution_count": null,
   "metadata": {},
   "outputs": [],
   "source": []
  }
 ],
 "metadata": {
  "kernelspec": {
   "display_name": "Python 3",
   "language": "python",
   "name": "python3"
  },
  "language_info": {
   "codemirror_mode": {
    "name": "ipython",
    "version": 3
   },
   "file_extension": ".py",
   "mimetype": "text/x-python",
   "name": "python",
   "nbconvert_exporter": "python",
   "pygments_lexer": "ipython3",
   "version": "3.8.5"
  }
 },
 "nbformat": 4,
 "nbformat_minor": 4
}
